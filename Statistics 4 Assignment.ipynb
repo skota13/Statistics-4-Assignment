{
 "cells": [
  {
   "cell_type": "markdown",
   "metadata": {},
   "source": [
    "# STATISTICS 4 ASSIGNMENT"
   ]
  },
  {
   "cell_type": "markdown",
   "metadata": {},
   "source": [
    "Problem Statement 1:\n",
    "Is gender independent of education level? A random sample of 395 people were surveyed and each person was asked to report the highest education level they obtained. The data that resulted from the survey is summarized in the following table:\n",
    "\n",
    "        High-School Bachelors Masters Ph.d. Total\n",
    "Female    60          54       46      41    201\n",
    "Male      40          44       53      57    194\n",
    "Total    100          98       99      98    395\n",
    "Question: Are gender and education level dependent at 5% level of significance? In other words, given the data collected above, is there a relationship between the gender of an individual and the level of education that they have obtained?"
   ]
  },
  {
   "cell_type": "code",
   "execution_count": 14,
   "metadata": {},
   "outputs": [
    {
     "data": {
      "text/plain": [
       "(8.006066246262538,\n",
       " 0.045886500891747214,\n",
       " 3,\n",
       " array([[ 50.88607595,  49.86835443,  50.37721519,  49.86835443],\n",
       "        [ 49.11392405,  48.13164557,  48.62278481,  48.13164557]]))"
      ]
     },
     "execution_count": 14,
     "metadata": {},
     "output_type": "execute_result"
    }
   ],
   "source": [
    "#Lets us go with the following\n",
    "\n",
    "#Null Hypothesis - There is no relationship between the gender and Education level\n",
    "\n",
    "#Alternate Hypothesis - This is relationship between the gender and the education level\n",
    "\n",
    "#degree of freedom(df) = (r-1)*(c-1) r= number of rows & c = number of columns\n",
    "#df = (2-1)(4-1) = 3\n",
    "\n",
    "#Critical Value of Chi2 @ 5% level of significance = 7.815 (referring to the chi2 table)\n",
    "\n",
    "#Lets calculate the Expected value of the chi2\n",
    "import numpy as np\n",
    "import scipy.stats as st\n",
    "import matplotlib.pyplot as plt\n",
    "fml = [60,54,46,41]\n",
    "mle = [40,44,53,57]\n",
    "test = np.array([fml,mle])\n",
    "st.chi2_contingency(test)\n",
    "\n",
    "#from the results we see that expected value is 8.006066\n",
    "#p-value = 0.04588\n",
    "\n",
    "#Expected Value (8.006066) > Critical Value(7.815)\n",
    "\n",
    "# We can reject the null hypothesis based on the above data & hence we go with the alternate hypothesis which means that there\n",
    "# is a dependence between the Gender and Education levels @ 5% significance level"
   ]
  },
  {
   "cell_type": "code",
   "execution_count": null,
   "metadata": {},
   "outputs": [],
   "source": []
  },
  {
   "cell_type": "markdown",
   "metadata": {},
   "source": [
    "Problem Statement 2:\n",
    "Using the following data, perform a oneway analysis of variance using α=.05. Write up\n",
    "the results in APA format.\n",
    "\n",
    "[Group1: 51, 45, 33, 45, 67]\n",
    "[Group2: 23, 43, 23, 43, 45]\n",
    "[Group3: 56, 76, 74, 87, 56]"
   ]
  },
  {
   "cell_type": "code",
   "execution_count": 46,
   "metadata": {},
   "outputs": [
    {
     "data": {
      "text/plain": [
       "F_onewayResult(statistic=9.7472055030094626, pvalue=0.0030597541434430556)"
      ]
     },
     "execution_count": 46,
     "metadata": {},
     "output_type": "execute_result"
    }
   ],
   "source": [
    "gp1= [51, 45, 33, 45, 67]\n",
    "gp2= [23, 43, 23, 43, 45]\n",
    "gp3= [56, 76, 74, 87, 56]\n",
    "\n",
    "#Null Hypothesis\n",
    "H0= Meangp1=Meangp2=Meangp3\n",
    "\n",
    "#Alternate Hypothesis\n",
    "H1 = Meangp1!=Meangp2!=Meangp3\n",
    "\n",
    "#degrees of freedom within group = Number of Observations - Number of Groups\n",
    "dfw = 15-3 = 12\n",
    "\n",
    "#degrees of freedom between groups = Number of groups -1\n",
    "dfb = 3-1 = 2\n",
    "\n",
    "#F=MeanSquare(Between Groups)/MeanSquare(Withing Groups)\n",
    "F,pval=st.f_oneway(gp1,gp2,gp3)\n",
    "F=9.75\n",
    "\n",
    "#Critical value found from F table for F(2,12) - F(dfnumerator,dfdenominator)\n",
    "#Critial Value Fcrit = F(2,12)=3.89\n",
    "\n",
    "F>Fcrit & hence we reject the Null hypothesis\n"
   ]
  },
  {
   "cell_type": "code",
   "execution_count": null,
   "metadata": {},
   "outputs": [],
   "source": []
  },
  {
   "cell_type": "markdown",
   "metadata": {},
   "source": [
    "Problem Statement 3:\n",
    "Calculate F Test for given 10, 20, 30, 40, 50 and 5,10,15, 20, 25.\n",
    "For 10, 20, 30, 40, 50:"
   ]
  },
  {
   "cell_type": "code",
   "execution_count": 55,
   "metadata": {},
   "outputs": [
    {
     "name": "stdout",
     "output_type": "stream",
     "text": [
      "200.0\n",
      "50.0\n",
      "4.0\n"
     ]
    }
   ],
   "source": [
    "samp1 = [10,20,30,40,50]\n",
    "samp2 = [5,10,15,20,25]\n",
    "\n",
    "#nul hypothesis H0 = Var1=Var2\n",
    "#Alternate Hypothesis H1 = Var1!=Var2\n",
    "\n",
    "#dfsamp1 = 5-1 = 4\n",
    "#dfsamp2 = 5-1 = 4\n",
    "\n",
    "#Calculating the Variance of sampl1\n",
    "var1 = np.var(samp1)\n",
    "print(var1)\n",
    "\n",
    "#Calculating the Variance of sampl2\n",
    "var2 = np.var(samp2)\n",
    "print(var2)\n",
    "\n",
    "#FTest = Variance of Sample1/Variance of Sample2\n",
    "Ftest = var1/var2\n",
    "print(Ftest)\n",
    "\n",
    "#Fcrit(4,4) = 6.39\n",
    "#F=4 from the sample test\n",
    "\n",
    "#F<Fcrit\n",
    "\n",
    "#Hence we cannot reject the null hypothesis"
   ]
  },
  {
   "cell_type": "code",
   "execution_count": null,
   "metadata": {},
   "outputs": [],
   "source": []
  }
 ],
 "metadata": {
  "kernelspec": {
   "display_name": "Python 3",
   "language": "python",
   "name": "python3"
  },
  "language_info": {
   "codemirror_mode": {
    "name": "ipython",
    "version": 3
   },
   "file_extension": ".py",
   "mimetype": "text/x-python",
   "name": "python",
   "nbconvert_exporter": "python",
   "pygments_lexer": "ipython3",
   "version": "3.6.5"
  }
 },
 "nbformat": 4,
 "nbformat_minor": 2
}
